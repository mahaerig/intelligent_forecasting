{
 "cells": [
  {
   "cell_type": "markdown",
   "metadata": {},
   "source": [
    "# Import der von externen Module"
   ]
  },
  {
   "cell_type": "code",
   "execution_count": null,
   "metadata": {},
   "outputs": [],
   "source": [
    "# Hier wird keine Ausgabe erwartet\n",
    "import pandas as pd\n",
    "from prophet import Prophet\n",
    "import matplotlib.pyplot as plt\n",
    "import warnings\n",
    "import logging\n",
    "\n",
    "# Für die Übersichtlichkeit der Ausgaben ignorieren wir unnütze Warnungen\n",
    "logging.getLogger('cmdstanpy').setLevel(logging.ERROR)\n",
    "warnings.simplefilter(action='ignore', category=FutureWarning)"
   ]
  },
  {
   "cell_type": "markdown",
   "metadata": {},
   "source": [
    "# Laden der historischen Daten"
   ]
  },
  {
   "cell_type": "code",
   "execution_count": null,
   "metadata": {},
   "outputs": [],
   "source": [
    "# Load the data\n",
    "data = pd.read_csv('updated_time_series_data.csv')\n",
    "data = data.tail(700)\n",
    "data"
   ]
  },
  {
   "cell_type": "markdown",
   "metadata": {},
   "source": [
    "# Modellierung und Prognose"
   ]
  },
  {
   "cell_type": "code",
   "execution_count": null,
   "metadata": {},
   "outputs": [],
   "source": [
    "# Initialize the Prophet model\n",
    "# Hier können Saisonalität und Trenderkennung an und ausgeschaltet werden\n",
    "# Diese Parameter werden als Hyperparameter bezeichnet \n",
    "model = Prophet(yearly_seasonality=True,        \n",
    "                weekly_seasonality=True, \n",
    "                daily_seasonality=False)\n",
    "\n",
    "# Daten Modellieren\n",
    "model.fit(data)\n",
    "\n",
    "# Erstellung einer Tabelle, in die der Forecast geschrieben wird\n",
    "future = model.make_future_dataframe(periods=365, include_history=False)\n",
    "\n",
    "# Erstellung des Forecasts\n",
    "forecast = model.predict(future)\n",
    "forecast"
   ]
  },
  {
   "cell_type": "markdown",
   "metadata": {},
   "source": [
    "# Visualisierung des Forecasts"
   ]
  },
  {
   "cell_type": "code",
   "execution_count": null,
   "metadata": {},
   "outputs": [],
   "source": [
    "# Darstellung der Historie und des Forecasts\n",
    "fig = model.plot(forecast, include_legend=True)\n",
    "plt.title('Time Series Forecast with Prophet')\n",
    "plt.xlabel('Datum')\n",
    "plt.ylabel('Forecast')\n",
    "plt.show()\n",
    "\n",
    "# Dekomposition des Forecasts\n",
    "fig2 = model.plot_components(forecast)\n",
    "plt.show()"
   ]
  }
 ],
 "metadata": {
  "kernelspec": {
   "display_name": "Python 3",
   "language": "python",
   "name": "python3"
  },
  "language_info": {
   "codemirror_mode": {
    "name": "ipython",
    "version": 3
   },
   "file_extension": ".py",
   "mimetype": "text/x-python",
   "name": "python",
   "nbconvert_exporter": "python",
   "pygments_lexer": "ipython3",
   "version": "3.11.9"
  }
 },
 "nbformat": 4,
 "nbformat_minor": 2
}
